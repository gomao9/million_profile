{
 "cells": [
  {
   "cell_type": "code",
   "execution_count": 1,
   "metadata": {
    "collapsed": false,
    "scrolled": false
   },
   "outputs": [
    {
     "data": {
      "application/javascript": [
       "if(window['d3'] === undefined ||\n",
       "   window['Nyaplot'] === undefined){\n",
       "    var path = {\"d3\":\"http://d3js.org/d3.v3.min\",\"downloadable\":\"http://cdn.rawgit.com/domitry/d3-downloadable/master/d3-downloadable\"};\n",
       "\n",
       "\n",
       "\n",
       "    var shim = {\"d3\":{\"exports\":\"d3\"},\"downloadable\":{\"exports\":\"downloadable\"}};\n",
       "\n",
       "    require.config({paths: path, shim:shim});\n",
       "\n",
       "\n",
       "require(['d3'], function(d3){window['d3']=d3;console.log('finished loading d3');require(['downloadable'], function(downloadable){window['downloadable']=downloadable;console.log('finished loading downloadable');\n",
       "\n",
       "\tvar script = d3.select(\"head\")\n",
       "\t    .append(\"script\")\n",
       "\t    .attr(\"src\", \"http://cdn.rawgit.com/domitry/Nyaplotjs/master/release/nyaplot.js\")\n",
       "\t    .attr(\"async\", true);\n",
       "\n",
       "\tscript[0][0].onload = script[0][0].onreadystatechange = function(){\n",
       "\n",
       "\n",
       "\t    var event = document.createEvent(\"HTMLEvents\");\n",
       "\t    event.initEvent(\"load_nyaplot\",false,false);\n",
       "\t    window.dispatchEvent(event);\n",
       "\t    console.log('Finished loading Nyaplotjs');\n",
       "\n",
       "\t};\n",
       "\n",
       "\n",
       "});});\n",
       "}\n"
      ],
      "text/plain": [
       "\"if(window['d3'] === undefined ||\\n   window['Nyaplot'] === undefined){\\n    var path = {\\\"d3\\\":\\\"http://d3js.org/d3.v3.min\\\",\\\"downloadable\\\":\\\"http://cdn.rawgit.com/domitry/d3-downloadable/master/d3-downloadable\\\"};\\n\\n\\n\\n    var shim = {\\\"d3\\\":{\\\"exports\\\":\\\"d3\\\"},\\\"downloadable\\\":{\\\"exports\\\":\\\"downloadable\\\"}};\\n\\n    require.config({paths: path, shim:shim});\\n\\n\\nrequire(['d3'], function(d3){window['d3']=d3;console.log('finished loading d3');require(['downloadable'], function(downloadable){window['downloadable']=downloadable;console.log('finished loading downloadable');\\n\\n\\tvar script = d3.select(\\\"head\\\")\\n\\t    .append(\\\"script\\\")\\n\\t    .attr(\\\"src\\\", \\\"http://cdn.rawgit.com/domitry/Nyaplotjs/master/release/nyaplot.js\\\")\\n\\t    .attr(\\\"async\\\", true);\\n\\n\\tscript[0][0].onload = script[0][0].onreadystatechange = function(){\\n\\n\\n\\t    var event = document.createEvent(\\\"HTMLEvents\\\");\\n\\t    event.initEvent(\\\"load_nyaplot\\\",false,false);\\n\\t    window.dispatchEvent(event);\\n\\t    console.log('Finished loading Nyaplotjs');\\n\\n\\t};\\n\\n\\n});});\\n}\\n\""
      ]
     },
     "metadata": {},
     "output_type": "display_data"
    },
    {
     "data": {
      "text/html": [
       "<div id='vis-ae46a452-f237-4737-b61f-7c75959efd47'></div>\n",
       "<script>\n",
       "(function(){\n",
       "    var render = function(){\n",
       "        var model = {\"panes\":[{\"diagrams\":[{\"type\":\"box\",\"options\":{\"value\":[\"Vo\",\"Da\",\"Vi\"],\"color\":[\"rgb(255,0,0)\",\"rgb(0,0,255)\",\"rgb(255,212,0)\"]},\"data\":\"8ed92dcf-7aa6-4280-9257-da21f302de63\"}],\"options\":{\"x_label\":\"属性\",\"y_label\":\"バスト(cm)\",\"yrange\":[68,96],\"width\":700,\"xrange\":[\"Vo\",\"Da\",\"Vi\"]}},{\"diagrams\":[{\"type\":\"box\",\"options\":{\"value\":[\"Vo\",\"Da\",\"Vi\"],\"color\":[\"rgb(255,0,0)\",\"rgb(0,0,255)\",\"rgb(255,212,0)\"]},\"data\":\"4991c7d8-1a25-4005-8aa3-82e6f97ec94f\"}],\"options\":{\"x_label\":\"属性\",\"y_label\":\"ウエスト(cm)\",\"yrange\":[48,66],\"width\":700,\"xrange\":[\"Vo\",\"Da\",\"Vi\"]}},{\"diagrams\":[{\"type\":\"box\",\"options\":{\"value\":[\"Vo\",\"Da\",\"Vi\"],\"color\":[\"rgb(255,0,0)\",\"rgb(0,0,255)\",\"rgb(255,212,0)\"]},\"data\":\"c0de0ece-8a0e-439e-8adf-149f320edddb\"}],\"options\":{\"x_label\":\"属性\",\"y_label\":\"ヒップ(cm)\",\"yrange\":[70,94],\"width\":700,\"xrange\":[\"Vo\",\"Da\",\"Vi\"]}}],\"data\":{\"8ed92dcf-7aa6-4280-9257-da21f302de63\":[{\"Vo\":83,\"Da\":74,\"Vi\":85},{\"Vo\":78,\"Da\":76,\"Vi\":85},{\"Vo\":72,\"Da\":83,\"Vi\":83},{\"Vo\":74,\"Da\":75,\"Vi\":90},{\"Vo\":90,\"Da\":84,\"Vi\":73},{\"Vo\":79,\"Da\":82,\"Vi\":85},{\"Vo\":82,\"Da\":86,\"Vi\":88},{\"Vo\":79,\"Da\":85,\"Vi\":93},{\"Vo\":80,\"Da\":74,\"Vi\":72},{\"Vo\":74,\"Da\":79,\"Vi\":78},{\"Vo\":81,\"Da\":80,\"Vi\":85},{\"Vo\":91,\"Da\":75,\"Vi\":81},{\"Vo\":77,\"Da\":87,\"Vi\":78},{\"Vo\":76,\"Da\":86,\"Vi\":78},{\"Vo\":78,\"Da\":73,\"Vi\":86},{\"Vo\":77,\"Da\":84,\"Vi\":84}],\"4991c7d8-1a25-4005-8aa3-82e6f97ec94f\":[{\"Vo\":56,\"Da\":54,\"Vi\":57},{\"Vo\":54,\"Da\":51,\"Vi\":52},{\"Vo\":55,\"Da\":56,\"Vi\":56},{\"Vo\":55,\"Da\":57,\"Vi\":59},{\"Vo\":62,\"Da\":58,\"Vi\":53},{\"Vo\":54,\"Da\":57,\"Vi\":59},{\"Vo\":55,\"Da\":54,\"Vi\":56},{\"Vo\":55,\"Da\":58,\"Vi\":63},{\"Vo\":56,\"Da\":54,\"Vi\":52},{\"Vo\":54,\"Da\":59,\"Vi\":56},{\"Vo\":54,\"Da\":58,\"Vi\":58},{\"Vo\":59,\"Da\":55,\"Vi\":56},{\"Vo\":54,\"Da\":58,\"Vi\":55},{\"Vo\":53,\"Da\":60,\"Vi\":55},{\"Vo\":53,\"Da\":54,\"Vi\":55},{\"Vo\":54,\"Da\":57,\"Vi\":58}],\"c0de0ece-8a0e-439e-8adf-149f320edddb\":[{\"Vo\":82,\"Da\":76,\"Vi\":85},{\"Vo\":77,\"Da\":77,\"Vi\":82},{\"Vo\":78,\"Da\":80,\"Vi\":84},{\"Vo\":78,\"Da\":78,\"Vi\":90},{\"Vo\":92,\"Da\":84,\"Vi\":74},{\"Vo\":80,\"Da\":84,\"Vi\":85},{\"Vo\":80,\"Da\":82,\"Vi\":85},{\"Vo\":78,\"Da\":86,\"Vi\":91},{\"Vo\":79,\"Da\":78,\"Vi\":73},{\"Vo\":76,\"Da\":78,\"Vi\":80},{\"Vo\":80,\"Da\":79,\"Vi\":86},{\"Vo\":86,\"Da\":79,\"Vi\":81},{\"Vo\":79,\"Da\":87,\"Vi\":77},{\"Vo\":77,\"Da\":88,\"Vi\":77},{\"Vo\":79,\"Da\":77,\"Vi\":83},{\"Vo\":76,\"Da\":84,\"Vi\":83}]},\"extension\":[]}\n",
       "        var id_name = '#vis-ae46a452-f237-4737-b61f-7c75959efd47';\n",
       "        Nyaplot.core.parse(model, id_name);\n",
       "\n",
       "        require(['downloadable'], function(downloadable){\n",
       "          var svg = d3.select(id_name).select(\"svg\");\n",
       "\t  if(!svg.empty())\n",
       "\t    svg.call(downloadable().filename('fig'));\n",
       "\t});\n",
       "    };\n",
       "    if(window['Nyaplot']==undefined){\n",
       "        window.addEventListener('load_nyaplot', render, false);\n",
       "\treturn;\n",
       "    } else {\n",
       "       render();\n",
       "    }\n",
       "})();\n",
       "</script>\n"
      ],
      "text/plain": [
       "#<Nyaplot::Frame:0x007fc22c0b7cf0 @properties={:panes=>[#<Nyaplot::Plot:0x007fc22c0a6bd0 @properties={:diagrams=>[#<Nyaplot::Diagram:0x007fc22c0a68b0 @properties={:type=>:box, :options=>{:value=>[:Vo, :Da, :Vi], :color=>#<Nyaplot::Color:0x007fc22c0a6928 @source=[\"rgb(255,0,0)\", \"rgb(0,0,255)\", \"rgb(255,212,0)\"]>}, :data=>\"8ed92dcf-7aa6-4280-9257-da21f302de63\"}, @xrange=[:Vo, :Da, :Vi], @yrange=[72, 93]>], :options=>{:x_label=>\"属性\", :y_label=>\"バスト(cm)\", :yrange=>[68, 96], :width=>700, :xrange=>[:Vo, :Da, :Vi]}}>, #<Nyaplot::Plot:0x007fc22c0af988 @properties={:diagrams=>[#<Nyaplot::Diagram:0x007fc22c0af668 @properties={:type=>:box, :options=>{:value=>[:Vo, :Da, :Vi], :color=>#<Nyaplot::Color:0x007fc22c0af6e0 @source=[\"rgb(255,0,0)\", \"rgb(0,0,255)\", \"rgb(255,212,0)\"]>}, :data=>\"4991c7d8-1a25-4005-8aa3-82e6f97ec94f\"}, @xrange=[:Vo, :Da, :Vi], @yrange=[51, 63]>], :options=>{:x_label=>\"属性\", :y_label=>\"ウエスト(cm)\", :yrange=>[48, 66], :width=>700, :xrange=>[:Vo, :Da, :Vi]}}>, #<Nyaplot::Plot:0x007fc22b8ddea8 @properties={:diagrams=>[#<Nyaplot::Diagram:0x007fc22b8dcbc0 @properties={:type=>:box, :options=>{:value=>[:Vo, :Da, :Vi], :color=>#<Nyaplot::Color:0x007fc22b8dcc38 @source=[\"rgb(255,0,0)\", \"rgb(0,0,255)\", \"rgb(255,212,0)\"]>}, :data=>\"c0de0ece-8a0e-439e-8adf-149f320edddb\"}, @xrange=[:Vo, :Da, :Vi], @yrange=[73, 92]>], :options=>{:x_label=>\"属性\", :y_label=>\"ヒップ(cm)\", :yrange=>[70, 94], :width=>700, :xrange=>[:Vo, :Da, :Vi]}}>], :data=>{\"8ed92dcf-7aa6-4280-9257-da21f302de63\"=>#<Nyaplot::DataFrame:0x007fc22c0a7878 @name=\"8ed92dcf-7aa6-4280-9257-da21f302de63\", @rows=[{:Vo=>83, :Da=>74, :Vi=>85}, {:Vo=>78, :Da=>76, :Vi=>85}, {:Vo=>72, :Da=>83, :Vi=>83}, {:Vo=>74, :Da=>75, :Vi=>90}, {:Vo=>90, :Da=>84, :Vi=>73}, {:Vo=>79, :Da=>82, :Vi=>85}, {:Vo=>82, :Da=>86, :Vi=>88}, {:Vo=>79, :Da=>85, :Vi=>93}, {:Vo=>80, :Da=>74, :Vi=>72}, {:Vo=>74, :Da=>79, :Vi=>78}, {:Vo=>81, :Da=>80, :Vi=>85}, {:Vo=>91, :Da=>75, :Vi=>81}, {:Vo=>77, :Da=>87, :Vi=>78}, {:Vo=>76, :Da=>86, :Vi=>78}, {:Vo=>78, :Da=>73, :Vi=>86}, {:Vo=>77, :Da=>84, :Vi=>84}]>, \"4991c7d8-1a25-4005-8aa3-82e6f97ec94f\"=>#<Nyaplot::DataFrame:0x007fc22b8e4898 @name=\"4991c7d8-1a25-4005-8aa3-82e6f97ec94f\", @rows=[{:Vo=>56, :Da=>54, :Vi=>57}, {:Vo=>54, :Da=>51, :Vi=>52}, {:Vo=>55, :Da=>56, :Vi=>56}, {:Vo=>55, :Da=>57, :Vi=>59}, {:Vo=>62, :Da=>58, :Vi=>53}, {:Vo=>54, :Da=>57, :Vi=>59}, {:Vo=>55, :Da=>54, :Vi=>56}, {:Vo=>55, :Da=>58, :Vi=>63}, {:Vo=>56, :Da=>54, :Vi=>52}, {:Vo=>54, :Da=>59, :Vi=>56}, {:Vo=>54, :Da=>58, :Vi=>58}, {:Vo=>59, :Da=>55, :Vi=>56}, {:Vo=>54, :Da=>58, :Vi=>55}, {:Vo=>53, :Da=>60, :Vi=>55}, {:Vo=>53, :Da=>54, :Vi=>55}, {:Vo=>54, :Da=>57, :Vi=>58}]>, \"c0de0ece-8a0e-439e-8adf-149f320edddb\"=>#<Nyaplot::DataFrame:0x007fc22c0ac120 @name=\"c0de0ece-8a0e-439e-8adf-149f320edddb\", @rows=[{:Vo=>82, :Da=>76, :Vi=>85}, {:Vo=>77, :Da=>77, :Vi=>82}, {:Vo=>78, :Da=>80, :Vi=>84}, {:Vo=>78, :Da=>78, :Vi=>90}, {:Vo=>92, :Da=>84, :Vi=>74}, {:Vo=>80, :Da=>84, :Vi=>85}, {:Vo=>80, :Da=>82, :Vi=>85}, {:Vo=>78, :Da=>86, :Vi=>91}, {:Vo=>79, :Da=>78, :Vi=>73}, {:Vo=>76, :Da=>78, :Vi=>80}, {:Vo=>80, :Da=>79, :Vi=>86}, {:Vo=>86, :Da=>79, :Vi=>81}, {:Vo=>79, :Da=>87, :Vi=>77}, {:Vo=>77, :Da=>88, :Vi=>77}, {:Vo=>79, :Da=>77, :Vi=>83}, {:Vo=>76, :Da=>84, :Vi=>83}]>}, :extension=>[]}>"
      ]
     },
     "metadata": {},
     "output_type": "display_data"
    }
   ],
   "source": [
    "require 'json'\n",
    "require 'nyaplot'\n",
    "\n",
    "TYPES = [:Vo, :Da, :Vi]\n",
    "FILE = 'million_profile.json'\n",
    "\n",
    "\n",
    "def plot_box data,idx, y_label, yrange\n",
    "  data = data.map{|type| type[1].map{|i| i['bwh'].split('-')[idx].to_i}}\n",
    "  df = Nyaplot::DataFrame.new(Hash[TYPES.zip data])\n",
    "\n",
    "  plot = Nyaplot::Plot.new\n",
    "  plot.x_label('属性')\n",
    "  plot.y_label(y_label)\n",
    "  plot.yrange(yrange)\n",
    "\n",
    "  colors = Nyaplot::Color.new(%w(rgb(255,0,0) rgb(0,0,255) rgb(255,212,0)))\n",
    "\n",
    "  box = plot.add_with_df(df, :box, *TYPES)\n",
    "  box.color(colors)\n",
    "\n",
    "  return plot\n",
    "end\n",
    "\n",
    "data =  JSON.parse(open(FILE).read)\n",
    "data = data.sort_by{|i| ['type']}.chunk{|i| i['type']}\n",
    "\n",
    "plot1 = plot_box data, 0, 'バスト(cm)', [68,96]\n",
    "plot2 = plot_box data, 1, 'ウエスト(cm)', [48,66]\n",
    "plot3 = plot_box data, 2, 'ヒップ(cm)', [70,94]\n",
    "\n",
    "frame = Nyaplot::Frame.new\n",
    "frame.add(plot1)\n",
    "frame.add(plot2)\n",
    "frame.add(plot3)\n",
    "frame.show\n",
    "\n",
    "      \n"
   ]
  }
 ],
 "metadata": {
  "kernelspec": {
   "display_name": "Ruby 2.2.2",
   "language": "ruby",
   "name": "ruby"
  },
  "language_info": {
   "file_extension": "rb",
   "mimetype": "application/x-ruby",
   "name": "ruby",
   "version": "2.2.2"
  }
 },
 "nbformat": 4,
 "nbformat_minor": 0
}
