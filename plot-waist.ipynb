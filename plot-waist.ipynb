{
 "cells": [
  {
   "cell_type": "code",
   "execution_count": 1,
   "metadata": {
    "collapsed": false
   },
   "outputs": [
    {
     "data": {
      "application/javascript": [
       "if(window['d3'] === undefined ||\n",
       "   window['Nyaplot'] === undefined){\n",
       "    var path = {\"d3\":\"http://d3js.org/d3.v3.min\",\"downloadable\":\"http://cdn.rawgit.com/domitry/d3-downloadable/master/d3-downloadable\"};\n",
       "\n",
       "\n",
       "\n",
       "    var shim = {\"d3\":{\"exports\":\"d3\"},\"downloadable\":{\"exports\":\"downloadable\"}};\n",
       "\n",
       "    require.config({paths: path, shim:shim});\n",
       "\n",
       "\n",
       "require(['d3'], function(d3){window['d3']=d3;console.log('finished loading d3');require(['downloadable'], function(downloadable){window['downloadable']=downloadable;console.log('finished loading downloadable');\n",
       "\n",
       "\tvar script = d3.select(\"head\")\n",
       "\t    .append(\"script\")\n",
       "\t    .attr(\"src\", \"http://cdn.rawgit.com/domitry/Nyaplotjs/master/release/nyaplot.js\")\n",
       "\t    .attr(\"async\", true);\n",
       "\n",
       "\tscript[0][0].onload = script[0][0].onreadystatechange = function(){\n",
       "\n",
       "\n",
       "\t    var event = document.createEvent(\"HTMLEvents\");\n",
       "\t    event.initEvent(\"load_nyaplot\",false,false);\n",
       "\t    window.dispatchEvent(event);\n",
       "\t    console.log('Finished loading Nyaplotjs');\n",
       "\n",
       "\t};\n",
       "\n",
       "\n",
       "});});\n",
       "}\n"
      ],
      "text/plain": [
       "\"if(window['d3'] === undefined ||\\n   window['Nyaplot'] === undefined){\\n    var path = {\\\"d3\\\":\\\"http://d3js.org/d3.v3.min\\\",\\\"downloadable\\\":\\\"http://cdn.rawgit.com/domitry/d3-downloadable/master/d3-downloadable\\\"};\\n\\n\\n\\n    var shim = {\\\"d3\\\":{\\\"exports\\\":\\\"d3\\\"},\\\"downloadable\\\":{\\\"exports\\\":\\\"downloadable\\\"}};\\n\\n    require.config({paths: path, shim:shim});\\n\\n\\nrequire(['d3'], function(d3){window['d3']=d3;console.log('finished loading d3');require(['downloadable'], function(downloadable){window['downloadable']=downloadable;console.log('finished loading downloadable');\\n\\n\\tvar script = d3.select(\\\"head\\\")\\n\\t    .append(\\\"script\\\")\\n\\t    .attr(\\\"src\\\", \\\"http://cdn.rawgit.com/domitry/Nyaplotjs/master/release/nyaplot.js\\\")\\n\\t    .attr(\\\"async\\\", true);\\n\\n\\tscript[0][0].onload = script[0][0].onreadystatechange = function(){\\n\\n\\n\\t    var event = document.createEvent(\\\"HTMLEvents\\\");\\n\\t    event.initEvent(\\\"load_nyaplot\\\",false,false);\\n\\t    window.dispatchEvent(event);\\n\\t    console.log('Finished loading Nyaplotjs');\\n\\n\\t};\\n\\n\\n});});\\n}\\n\""
      ]
     },
     "metadata": {},
     "output_type": "display_data"
    },
    {
     "data": {
      "text/html": [
       "<div id='vis-9a5a20bb-3ea0-44a1-9199-6946f5eb1595'></div>\n",
       "<script>\n",
       "(function(){\n",
       "    var render = function(){\n",
       "        var model = {\"panes\":[{\"diagrams\":[{\"type\":\"scatter\",\"options\":{\"x\":\"age\",\"y\":\"height\",\"fill_by\":\"type\",\"color\":[\"rgb(255,0,0)\",\"rgb(0,0,255)\",\"rgb(255,212,0)\"]},\"data\":\"d0baa57d-8970-4ef4-ac54-dd8e9186d7ff\"}],\"options\":{\"x_label\":\"年齢\",\"y_label\":\"腹囲(cm)\",\"zoom\":true,\"width\":700,\"xrange\":[10,24],\"yrange\":[51,63]}}],\"data\":{\"d0baa57d-8970-4ef4-ac54-dd8e9186d7ff\":[{\"age\":17,\"height\":56,\"type\":\"Vocal\"},{\"age\":14,\"height\":54,\"type\":\"Vocal\"},{\"age\":16,\"height\":55,\"type\":\"Vocal\"},{\"age\":14,\"height\":55,\"type\":\"Vocal\"},{\"age\":18,\"height\":62,\"type\":\"Vocal\"},{\"age\":16,\"height\":54,\"type\":\"Vocal\"},{\"age\":17,\"height\":55,\"type\":\"Vocal\"},{\"age\":18,\"height\":55,\"type\":\"Vocal\"},{\"age\":15,\"height\":56,\"type\":\"Vocal\"},{\"age\":13,\"height\":54,\"type\":\"Vocal\"},{\"age\":16,\"height\":54,\"type\":\"Vocal\"},{\"age\":21,\"height\":59,\"type\":\"Vocal\"},{\"age\":15,\"height\":54,\"type\":\"Vocal\"},{\"age\":14,\"height\":53,\"type\":\"Vocal\"},{\"age\":14,\"height\":53,\"type\":\"Vocal\"},{\"age\":14,\"height\":54,\"type\":\"Vocal\"},{\"age\":13,\"height\":54,\"type\":\"Dance\"},{\"age\":12,\"height\":51,\"type\":\"Dance\"},{\"age\":16,\"height\":56,\"type\":\"Dance\"},{\"age\":17,\"height\":57,\"type\":\"Dance\"},{\"age\":20,\"height\":58,\"type\":\"Dance\"},{\"age\":16,\"height\":57,\"type\":\"Dance\"},{\"age\":18,\"height\":54,\"type\":\"Dance\"},{\"age\":17,\"height\":58,\"type\":\"Dance\"},{\"age\":14,\"height\":54,\"type\":\"Dance\"},{\"age\":15,\"height\":59,\"type\":\"Dance\"},{\"age\":16,\"height\":58,\"type\":\"Dance\"},{\"age\":24,\"height\":55,\"type\":\"Dance\"},{\"age\":18,\"height\":58,\"type\":\"Dance\"},{\"age\":19,\"height\":60,\"type\":\"Dance\"},{\"age\":17,\"height\":54,\"type\":\"Dance\"},{\"age\":23,\"height\":57,\"type\":\"Dance\"},{\"age\":17,\"height\":57,\"type\":\"Dance\"},{\"age\":19,\"height\":57,\"type\":\"Visual\"},{\"age\":14,\"height\":52,\"type\":\"Visual\"},{\"age\":14,\"height\":56,\"type\":\"Visual\"},{\"age\":16,\"height\":59,\"type\":\"Visual\"},{\"age\":11,\"height\":53,\"type\":\"Visual\"},{\"age\":19,\"height\":59,\"type\":\"Visual\"},{\"age\":16,\"height\":56,\"type\":\"Visual\"},{\"age\":22,\"height\":63,\"type\":\"Visual\"},{\"age\":10,\"height\":52,\"type\":\"Visual\"},{\"age\":15,\"height\":56,\"type\":\"Visual\"},{\"age\":21,\"height\":58,\"type\":\"Visual\"},{\"age\":17,\"height\":56,\"type\":\"Visual\"},{\"age\":13,\"height\":55,\"type\":\"Visual\"},{\"age\":13,\"height\":55,\"type\":\"Visual\"},{\"age\":15,\"height\":55,\"type\":\"Visual\"},{\"age\":17,\"height\":58,\"type\":\"Visual\"},{\"age\":15,\"height\":57,\"type\":\"Visual\"}]},\"extension\":[]}\n",
       "        var id_name = '#vis-9a5a20bb-3ea0-44a1-9199-6946f5eb1595';\n",
       "        Nyaplot.core.parse(model, id_name);\n",
       "\n",
       "        require(['downloadable'], function(downloadable){\n",
       "          var svg = d3.select(id_name).select(\"svg\");\n",
       "\t  if(!svg.empty())\n",
       "\t    svg.call(downloadable().filename('fig'));\n",
       "\t});\n",
       "    };\n",
       "    if(window['Nyaplot']==undefined){\n",
       "        window.addEventListener('load_nyaplot', render, false);\n",
       "\treturn;\n",
       "    } else {\n",
       "       render();\n",
       "    }\n",
       "})();\n",
       "</script>\n"
      ],
      "text/plain": [
       "#<Nyaplot::Frame:0x007fe2c91dbbc8 @properties={:panes=>[#<Nyaplot::Plot:0x007fe2c9079500 @properties={:diagrams=>[#<Nyaplot::Diagram:0x007fe2c9078f38 @properties={:type=>:scatter, :options=>{:x=>:age, :y=>:height, :fill_by=>:type, :color=>#<Nyaplot::Color:0x007fe2c91dbcb8 @source=[\"rgb(255,0,0)\", \"rgb(0,0,255)\", \"rgb(255,212,0)\"]>}, :data=>\"d0baa57d-8970-4ef4-ac54-dd8e9186d7ff\"}, @xrange=[10, 24], @yrange=[51, 63]>], :options=>{:x_label=>\"年齢\", :y_label=>\"腹囲(cm)\", :zoom=>true, :width=>700, :xrange=>[10, 24], :yrange=>[51, 63]}}>], :data=>{\"d0baa57d-8970-4ef4-ac54-dd8e9186d7ff\"=>#<Nyaplot::DataFrame:0x007fe2c91d19c0 @name=\"d0baa57d-8970-4ef4-ac54-dd8e9186d7ff\", @rows=[{:age=>17, :height=>56, :type=>\"Vocal\"}, {:age=>14, :height=>54, :type=>\"Vocal\"}, {:age=>16, :height=>55, :type=>\"Vocal\"}, {:age=>14, :height=>55, :type=>\"Vocal\"}, {:age=>18, :height=>62, :type=>\"Vocal\"}, {:age=>16, :height=>54, :type=>\"Vocal\"}, {:age=>17, :height=>55, :type=>\"Vocal\"}, {:age=>18, :height=>55, :type=>\"Vocal\"}, {:age=>15, :height=>56, :type=>\"Vocal\"}, {:age=>13, :height=>54, :type=>\"Vocal\"}, {:age=>16, :height=>54, :type=>\"Vocal\"}, {:age=>21, :height=>59, :type=>\"Vocal\"}, {:age=>15, :height=>54, :type=>\"Vocal\"}, {:age=>14, :height=>53, :type=>\"Vocal\"}, {:age=>14, :height=>53, :type=>\"Vocal\"}, {:age=>14, :height=>54, :type=>\"Vocal\"}, {:age=>13, :height=>54, :type=>\"Dance\"}, {:age=>12, :height=>51, :type=>\"Dance\"}, {:age=>16, :height=>56, :type=>\"Dance\"}, {:age=>17, :height=>57, :type=>\"Dance\"}, {:age=>20, :height=>58, :type=>\"Dance\"}, {:age=>16, :height=>57, :type=>\"Dance\"}, {:age=>18, :height=>54, :type=>\"Dance\"}, {:age=>17, :height=>58, :type=>\"Dance\"}, {:age=>14, :height=>54, :type=>\"Dance\"}, {:age=>15, :height=>59, :type=>\"Dance\"}, {:age=>16, :height=>58, :type=>\"Dance\"}, {:age=>24, :height=>55, :type=>\"Dance\"}, {:age=>18, :height=>58, :type=>\"Dance\"}, {:age=>19, :height=>60, :type=>\"Dance\"}, {:age=>17, :height=>54, :type=>\"Dance\"}, {:age=>23, :height=>57, :type=>\"Dance\"}, {:age=>17, :height=>57, :type=>\"Dance\"}, {:age=>19, :height=>57, :type=>\"Visual\"}, {:age=>14, :height=>52, :type=>\"Visual\"}, {:age=>14, :height=>56, :type=>\"Visual\"}, {:age=>16, :height=>59, :type=>\"Visual\"}, {:age=>11, :height=>53, :type=>\"Visual\"}, {:age=>19, :height=>59, :type=>\"Visual\"}, {:age=>16, :height=>56, :type=>\"Visual\"}, {:age=>22, :height=>63, :type=>\"Visual\"}, {:age=>10, :height=>52, :type=>\"Visual\"}, {:age=>15, :height=>56, :type=>\"Visual\"}, {:age=>21, :height=>58, :type=>\"Visual\"}, {:age=>17, :height=>56, :type=>\"Visual\"}, {:age=>13, :height=>55, :type=>\"Visual\"}, {:age=>13, :height=>55, :type=>\"Visual\"}, {:age=>15, :height=>55, :type=>\"Visual\"}, {:age=>17, :height=>58, :type=>\"Visual\"}, {:age=>15, :height=>57, :type=>\"Visual\"}]>}, :extension=>[]}>"
      ]
     },
     "metadata": {},
     "output_type": "display_data"
    }
   ],
   "source": [
    "require 'json'\n",
    "require 'nyaplot'\n",
    "\n",
    "file = 'million_profile.json'\n",
    "\n",
    "data =  JSON.parse(open(file).read).map do |idol|\n",
    "  [idol['age'][0,2].to_i,\n",
    "   idol['bwh'].split('-')[1].to_i,\n",
    "   idol['type'],\n",
    "  ]\n",
    "end\n",
    "\n",
    "hash = Hash[[:age, :height, :type].zip data.transpose]\n",
    "df = Nyaplot::DataFrame.new(hash)\n",
    "\n",
    "plot = Nyaplot::Plot.new\n",
    "sc = plot.add_with_df(df, :scatter, :age, :height)\n",
    "sc.fill_by(:type)\n",
    "colors = Nyaplot::Color.new(%w(rgb(255,0,0) rgb(0,0,255) rgb(255,212,0)))\n",
    "sc.color(colors)\n",
    "plot.x_label('年齢')\n",
    "plot.y_label('腹囲(cm)')\n",
    "\n",
    "\n",
    "plot.show\n"
   ]
  }
 ],
 "metadata": {
  "kernelspec": {
   "display_name": "Ruby 2.2.2",
   "language": "ruby",
   "name": "ruby"
  },
  "language_info": {
   "file_extension": "rb",
   "mimetype": "application/x-ruby",
   "name": "ruby",
   "version": "2.2.2"
  }
 },
 "nbformat": 4,
 "nbformat_minor": 0
}
