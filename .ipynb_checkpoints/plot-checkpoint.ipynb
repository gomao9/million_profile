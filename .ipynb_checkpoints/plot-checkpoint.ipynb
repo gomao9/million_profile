{
 "cells": [
  {
   "cell_type": "code",
   "execution_count": 1,
   "metadata": {
    "collapsed": false
   },
   "outputs": [
    {
     "data": {
      "application/javascript": [
       "if(window['d3'] === undefined ||\n",
       "   window['Nyaplot'] === undefined){\n",
       "    var path = {\"d3\":\"http://d3js.org/d3.v3.min\",\"downloadable\":\"http://cdn.rawgit.com/domitry/d3-downloadable/master/d3-downloadable\"};\n",
       "\n",
       "\n",
       "\n",
       "    var shim = {\"d3\":{\"exports\":\"d3\"},\"downloadable\":{\"exports\":\"downloadable\"}};\n",
       "\n",
       "    require.config({paths: path, shim:shim});\n",
       "\n",
       "\n",
       "require(['d3'], function(d3){window['d3']=d3;console.log('finished loading d3');require(['downloadable'], function(downloadable){window['downloadable']=downloadable;console.log('finished loading downloadable');\n",
       "\n",
       "\tvar script = d3.select(\"head\")\n",
       "\t    .append(\"script\")\n",
       "\t    .attr(\"src\", \"http://cdn.rawgit.com/domitry/Nyaplotjs/master/release/nyaplot.js\")\n",
       "\t    .attr(\"async\", true);\n",
       "\n",
       "\tscript[0][0].onload = script[0][0].onreadystatechange = function(){\n",
       "\n",
       "\n",
       "\t    var event = document.createEvent(\"HTMLEvents\");\n",
       "\t    event.initEvent(\"load_nyaplot\",false,false);\n",
       "\t    window.dispatchEvent(event);\n",
       "\t    console.log('Finished loading Nyaplotjs');\n",
       "\n",
       "\t};\n",
       "\n",
       "\n",
       "});});\n",
       "}\n"
      ],
      "text/plain": [
       "\"if(window['d3'] === undefined ||\\n   window['Nyaplot'] === undefined){\\n    var path = {\\\"d3\\\":\\\"http://d3js.org/d3.v3.min\\\",\\\"downloadable\\\":\\\"http://cdn.rawgit.com/domitry/d3-downloadable/master/d3-downloadable\\\"};\\n\\n\\n\\n    var shim = {\\\"d3\\\":{\\\"exports\\\":\\\"d3\\\"},\\\"downloadable\\\":{\\\"exports\\\":\\\"downloadable\\\"}};\\n\\n    require.config({paths: path, shim:shim});\\n\\n\\nrequire(['d3'], function(d3){window['d3']=d3;console.log('finished loading d3');require(['downloadable'], function(downloadable){window['downloadable']=downloadable;console.log('finished loading downloadable');\\n\\n\\tvar script = d3.select(\\\"head\\\")\\n\\t    .append(\\\"script\\\")\\n\\t    .attr(\\\"src\\\", \\\"http://cdn.rawgit.com/domitry/Nyaplotjs/master/release/nyaplot.js\\\")\\n\\t    .attr(\\\"async\\\", true);\\n\\n\\tscript[0][0].onload = script[0][0].onreadystatechange = function(){\\n\\n\\n\\t    var event = document.createEvent(\\\"HTMLEvents\\\");\\n\\t    event.initEvent(\\\"load_nyaplot\\\",false,false);\\n\\t    window.dispatchEvent(event);\\n\\t    console.log('Finished loading Nyaplotjs');\\n\\n\\t};\\n\\n\\n});});\\n}\\n\""
      ]
     },
     "metadata": {},
     "output_type": "display_data"
    },
    {
     "data": {
      "text/html": [
       "<div id='vis-a34b8274-d02e-4d7b-a83c-e2e0933f8f11'></div>\n",
       "<script>\n",
       "(function(){\n",
       "    var render = function(){\n",
       "        var model = {\"panes\":[{\"diagrams\":[{\"type\":\"scatter\",\"options\":{\"x\":\"age\",\"y\":\"height\",\"fill_by\":\"type\",\"color\":[\"rgb(255,0,0)\",\"rgb(0,0,255)\",\"rgb(255,212,0)\"]},\"data\":\"f679f559-89b1-4f88-bfcd-1762afb80661\"}],\"options\":{\"x_label\":\"年齢\",\"y_label\":\"身長(cm)\",\"zoom\":true,\"width\":700,\"xrange\":[10,24],\"yrange\":[140,169]}}],\"data\":{\"f679f559-89b1-4f88-bfcd-1762afb80661\":[{\"age\":17,\"height\":158,\"type\":\"Vocal\"},{\"age\":14,\"height\":156,\"type\":\"Vocal\"},{\"age\":16,\"height\":162,\"type\":\"Vocal\"},{\"age\":14,\"height\":146,\"type\":\"Vocal\"},{\"age\":18,\"height\":169,\"type\":\"Vocal\"},{\"age\":16,\"height\":157,\"type\":\"Vocal\"},{\"age\":17,\"height\":156,\"type\":\"Vocal\"},{\"age\":18,\"height\":157,\"type\":\"Vocal\"},{\"age\":15,\"height\":156,\"type\":\"Vocal\"},{\"age\":13,\"height\":146,\"type\":\"Vocal\"},{\"age\":16,\"height\":154,\"type\":\"Vocal\"},{\"age\":21,\"height\":168,\"type\":\"Vocal\"},{\"age\":15,\"height\":153,\"type\":\"Vocal\"},{\"age\":14,\"height\":162,\"type\":\"Vocal\"},{\"age\":14,\"height\":152,\"type\":\"Vocal\"},{\"age\":14,\"height\":155,\"type\":\"Vocal\"},{\"age\":13,\"height\":156,\"type\":\"Dance\"},{\"age\":12,\"height\":147,\"type\":\"Dance\"},{\"age\":16,\"height\":152,\"type\":\"Dance\"},{\"age\":17,\"height\":159,\"type\":\"Dance\"},{\"age\":20,\"height\":164,\"type\":\"Dance\"},{\"age\":16,\"height\":155,\"type\":\"Dance\"},{\"age\":18,\"height\":158,\"type\":\"Dance\"},{\"age\":17,\"height\":160,\"type\":\"Dance\"},{\"age\":14,\"height\":145,\"type\":\"Dance\"},{\"age\":15,\"height\":154,\"type\":\"Dance\"},{\"age\":16,\"height\":150,\"type\":\"Dance\"},{\"age\":24,\"height\":143,\"type\":\"Dance\"},{\"age\":18,\"height\":164,\"type\":\"Dance\"},{\"age\":19,\"height\":158,\"type\":\"Dance\"},{\"age\":17,\"height\":160,\"type\":\"Dance\"},{\"age\":23,\"height\":168,\"type\":\"Dance\"},{\"age\":17,\"height\":159,\"type\":\"Dance\"},{\"age\":19,\"height\":156,\"type\":\"Visual\"},{\"age\":14,\"height\":158,\"type\":\"Visual\"},{\"age\":14,\"height\":161,\"type\":\"Visual\"},{\"age\":16,\"height\":159,\"type\":\"Visual\"},{\"age\":11,\"height\":140,\"type\":\"Visual\"},{\"age\":19,\"height\":163,\"type\":\"Visual\"},{\"age\":16,\"height\":159,\"type\":\"Visual\"},{\"age\":22,\"height\":162,\"type\":\"Visual\"},{\"age\":10,\"height\":142,\"type\":\"Visual\"},{\"age\":15,\"height\":154,\"type\":\"Visual\"},{\"age\":21,\"height\":165,\"type\":\"Visual\"},{\"age\":17,\"height\":155,\"type\":\"Visual\"},{\"age\":13,\"height\":158,\"type\":\"Visual\"},{\"age\":13,\"height\":158,\"type\":\"Visual\"},{\"age\":15,\"height\":161,\"type\":\"Visual\"},{\"age\":17,\"height\":156,\"type\":\"Visual\"},{\"age\":15,\"height\":154,\"type\":\"Visual\"}]},\"extension\":[]}\n",
       "        var id_name = '#vis-a34b8274-d02e-4d7b-a83c-e2e0933f8f11';\n",
       "        Nyaplot.core.parse(model, id_name);\n",
       "\n",
       "        require(['downloadable'], function(downloadable){\n",
       "          var svg = d3.select(id_name).select(\"svg\");\n",
       "\t  if(!svg.empty())\n",
       "\t    svg.call(downloadable().filename('fig'));\n",
       "\t});\n",
       "    };\n",
       "    if(window['Nyaplot']==undefined){\n",
       "        window.addEventListener('load_nyaplot', render, false);\n",
       "\treturn;\n",
       "    } else {\n",
       "       render();\n",
       "    }\n",
       "})();\n",
       "</script>\n"
      ],
      "text/plain": [
       "#<Nyaplot::Frame:0x007fdf750eaa90 @properties={:panes=>[#<Nyaplot::Plot:0x007fdf750eb3a0 @properties={:diagrams=>[#<Nyaplot::Diagram:0x007fdf750eb1e8 @properties={:type=>:scatter, :options=>{:x=>:age, :y=>:height, :fill_by=>:type, :color=>#<Nyaplot::Color:0x007fdf750eab80 @source=[\"rgb(255,0,0)\", \"rgb(0,0,255)\", \"rgb(255,212,0)\"]>}, :data=>\"f679f559-89b1-4f88-bfcd-1762afb80661\"}, @xrange=[10, 24], @yrange=[140, 169]>], :options=>{:x_label=>\"年齢\", :y_label=>\"身長(cm)\", :zoom=>true, :width=>700, :xrange=>[10, 24], :yrange=>[140, 169]}}>], :data=>{\"f679f559-89b1-4f88-bfcd-1762afb80661\"=>#<Nyaplot::DataFrame:0x007fdf73a38798 @name=\"f679f559-89b1-4f88-bfcd-1762afb80661\", @rows=[{:age=>17, :height=>158, :type=>\"Vocal\"}, {:age=>14, :height=>156, :type=>\"Vocal\"}, {:age=>16, :height=>162, :type=>\"Vocal\"}, {:age=>14, :height=>146, :type=>\"Vocal\"}, {:age=>18, :height=>169, :type=>\"Vocal\"}, {:age=>16, :height=>157, :type=>\"Vocal\"}, {:age=>17, :height=>156, :type=>\"Vocal\"}, {:age=>18, :height=>157, :type=>\"Vocal\"}, {:age=>15, :height=>156, :type=>\"Vocal\"}, {:age=>13, :height=>146, :type=>\"Vocal\"}, {:age=>16, :height=>154, :type=>\"Vocal\"}, {:age=>21, :height=>168, :type=>\"Vocal\"}, {:age=>15, :height=>153, :type=>\"Vocal\"}, {:age=>14, :height=>162, :type=>\"Vocal\"}, {:age=>14, :height=>152, :type=>\"Vocal\"}, {:age=>14, :height=>155, :type=>\"Vocal\"}, {:age=>13, :height=>156, :type=>\"Dance\"}, {:age=>12, :height=>147, :type=>\"Dance\"}, {:age=>16, :height=>152, :type=>\"Dance\"}, {:age=>17, :height=>159, :type=>\"Dance\"}, {:age=>20, :height=>164, :type=>\"Dance\"}, {:age=>16, :height=>155, :type=>\"Dance\"}, {:age=>18, :height=>158, :type=>\"Dance\"}, {:age=>17, :height=>160, :type=>\"Dance\"}, {:age=>14, :height=>145, :type=>\"Dance\"}, {:age=>15, :height=>154, :type=>\"Dance\"}, {:age=>16, :height=>150, :type=>\"Dance\"}, {:age=>24, :height=>143, :type=>\"Dance\"}, {:age=>18, :height=>164, :type=>\"Dance\"}, {:age=>19, :height=>158, :type=>\"Dance\"}, {:age=>17, :height=>160, :type=>\"Dance\"}, {:age=>23, :height=>168, :type=>\"Dance\"}, {:age=>17, :height=>159, :type=>\"Dance\"}, {:age=>19, :height=>156, :type=>\"Visual\"}, {:age=>14, :height=>158, :type=>\"Visual\"}, {:age=>14, :height=>161, :type=>\"Visual\"}, {:age=>16, :height=>159, :type=>\"Visual\"}, {:age=>11, :height=>140, :type=>\"Visual\"}, {:age=>19, :height=>163, :type=>\"Visual\"}, {:age=>16, :height=>159, :type=>\"Visual\"}, {:age=>22, :height=>162, :type=>\"Visual\"}, {:age=>10, :height=>142, :type=>\"Visual\"}, {:age=>15, :height=>154, :type=>\"Visual\"}, {:age=>21, :height=>165, :type=>\"Visual\"}, {:age=>17, :height=>155, :type=>\"Visual\"}, {:age=>13, :height=>158, :type=>\"Visual\"}, {:age=>13, :height=>158, :type=>\"Visual\"}, {:age=>15, :height=>161, :type=>\"Visual\"}, {:age=>17, :height=>156, :type=>\"Visual\"}, {:age=>15, :height=>154, :type=>\"Visual\"}]>}, :extension=>[]}>"
      ]
     },
     "metadata": {},
     "output_type": "display_data"
    }
   ],
   "source": [
    "require 'json'\n",
    "require 'nyaplot'\n",
    "\n",
    "file = 'million_profile.json'\n",
    "\n",
    "data =  JSON.parse(open(file).read).map do |idol|\n",
    "  [idol['age'][0,2].to_i,\n",
    "   idol['height'][0,3].to_i,\n",
    "   idol['type'],\n",
    "  ]\n",
    "end\n",
    "\n",
    "hash = Hash[[:age, :height, :type].zip data.transpose]\n",
    "df = Nyaplot::DataFrame.new(hash)\n",
    "\n",
    "plot = Nyaplot::Plot.new\n",
    "sc = plot.add_with_df(df, :scatter, :age, :height)\n",
    "sc.fill_by(:type)\n",
    "colors = Nyaplot::Color.new(%w(rgb(255,0,0) rgb(0,0,255) rgb(255,212,0)))\n",
    "sc.color(colors)\n",
    "plot.x_label('年齢')\n",
    "plot.y_label('身長(cm)')\n",
    "\n",
    "\n",
    "plot.show\n"
   ]
  },
  {
   "cell_type": "code",
   "execution_count": null,
   "metadata": {
    "collapsed": false
   },
   "outputs": [],
   "source": []
  }
 ],
 "metadata": {
  "kernelspec": {
   "display_name": "Ruby 2.2.2",
   "language": "ruby",
   "name": "ruby"
  },
  "language_info": {
   "file_extension": "rb",
   "mimetype": "application/x-ruby",
   "name": "ruby",
   "version": "2.2.2"
  }
 },
 "nbformat": 4,
 "nbformat_minor": 0
}
