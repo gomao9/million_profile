{
 "cells": [
  {
   "cell_type": "code",
   "execution_count": 1,
   "metadata": {
    "collapsed": false
   },
   "outputs": [
    {
     "data": {
      "application/javascript": [
       "if(window['d3'] === undefined ||\n",
       "   window['Nyaplot'] === undefined){\n",
       "    var path = {\"d3\":\"http://d3js.org/d3.v3.min\",\"downloadable\":\"http://cdn.rawgit.com/domitry/d3-downloadable/master/d3-downloadable\"};\n",
       "\n",
       "\n",
       "\n",
       "    var shim = {\"d3\":{\"exports\":\"d3\"},\"downloadable\":{\"exports\":\"downloadable\"}};\n",
       "\n",
       "    require.config({paths: path, shim:shim});\n",
       "\n",
       "\n",
       "require(['d3'], function(d3){window['d3']=d3;console.log('finished loading d3');require(['downloadable'], function(downloadable){window['downloadable']=downloadable;console.log('finished loading downloadable');\n",
       "\n",
       "\tvar script = d3.select(\"head\")\n",
       "\t    .append(\"script\")\n",
       "\t    .attr(\"src\", \"http://cdn.rawgit.com/domitry/Nyaplotjs/master/release/nyaplot.js\")\n",
       "\t    .attr(\"async\", true);\n",
       "\n",
       "\tscript[0][0].onload = script[0][0].onreadystatechange = function(){\n",
       "\n",
       "\n",
       "\t    var event = document.createEvent(\"HTMLEvents\");\n",
       "\t    event.initEvent(\"load_nyaplot\",false,false);\n",
       "\t    window.dispatchEvent(event);\n",
       "\t    console.log('Finished loading Nyaplotjs');\n",
       "\n",
       "\t};\n",
       "\n",
       "\n",
       "});});\n",
       "}\n"
      ],
      "text/plain": [
       "\"if(window['d3'] === undefined ||\\n   window['Nyaplot'] === undefined){\\n    var path = {\\\"d3\\\":\\\"http://d3js.org/d3.v3.min\\\",\\\"downloadable\\\":\\\"http://cdn.rawgit.com/domitry/d3-downloadable/master/d3-downloadable\\\"};\\n\\n\\n\\n    var shim = {\\\"d3\\\":{\\\"exports\\\":\\\"d3\\\"},\\\"downloadable\\\":{\\\"exports\\\":\\\"downloadable\\\"}};\\n\\n    require.config({paths: path, shim:shim});\\n\\n\\nrequire(['d3'], function(d3){window['d3']=d3;console.log('finished loading d3');require(['downloadable'], function(downloadable){window['downloadable']=downloadable;console.log('finished loading downloadable');\\n\\n\\tvar script = d3.select(\\\"head\\\")\\n\\t    .append(\\\"script\\\")\\n\\t    .attr(\\\"src\\\", \\\"http://cdn.rawgit.com/domitry/Nyaplotjs/master/release/nyaplot.js\\\")\\n\\t    .attr(\\\"async\\\", true);\\n\\n\\tscript[0][0].onload = script[0][0].onreadystatechange = function(){\\n\\n\\n\\t    var event = document.createEvent(\\\"HTMLEvents\\\");\\n\\t    event.initEvent(\\\"load_nyaplot\\\",false,false);\\n\\t    window.dispatchEvent(event);\\n\\t    console.log('Finished loading Nyaplotjs');\\n\\n\\t};\\n\\n\\n});});\\n}\\n\""
      ]
     },
     "metadata": {},
     "output_type": "display_data"
    },
    {
     "data": {
      "text/html": [
       "<div id='vis-1f3795ff-c3b4-46e8-9f0c-8c691b5cf1e0'></div>\n",
       "<script>\n",
       "(function(){\n",
       "    var render = function(){\n",
       "        var model = {\"panes\":[{\"diagrams\":[{\"type\":\"scatter\",\"options\":{\"x\":\"age\",\"y\":\"height\",\"fill_by\":\"type\",\"color\":[\"rgb(255,0,0)\",\"rgb(0,0,255)\",\"rgb(255,212,0)\"]},\"data\":\"e40cd021-d6a6-4240-ad75-b83a7cad6c6c\"}],\"options\":{\"x_label\":\"年齢\",\"y_label\":\"臀囲(ヒップ)(cm)\",\"zoom\":true,\"width\":700,\"xrange\":[10,24],\"yrange\":[73,92]}}],\"data\":{\"e40cd021-d6a6-4240-ad75-b83a7cad6c6c\":[{\"age\":17,\"height\":82,\"type\":\"Vocal\"},{\"age\":14,\"height\":77,\"type\":\"Vocal\"},{\"age\":16,\"height\":78,\"type\":\"Vocal\"},{\"age\":14,\"height\":78,\"type\":\"Vocal\"},{\"age\":18,\"height\":92,\"type\":\"Vocal\"},{\"age\":16,\"height\":80,\"type\":\"Vocal\"},{\"age\":17,\"height\":80,\"type\":\"Vocal\"},{\"age\":18,\"height\":78,\"type\":\"Vocal\"},{\"age\":15,\"height\":79,\"type\":\"Vocal\"},{\"age\":13,\"height\":76,\"type\":\"Vocal\"},{\"age\":16,\"height\":80,\"type\":\"Vocal\"},{\"age\":21,\"height\":86,\"type\":\"Vocal\"},{\"age\":15,\"height\":79,\"type\":\"Vocal\"},{\"age\":14,\"height\":77,\"type\":\"Vocal\"},{\"age\":14,\"height\":79,\"type\":\"Vocal\"},{\"age\":14,\"height\":76,\"type\":\"Vocal\"},{\"age\":13,\"height\":76,\"type\":\"Dance\"},{\"age\":12,\"height\":77,\"type\":\"Dance\"},{\"age\":16,\"height\":80,\"type\":\"Dance\"},{\"age\":17,\"height\":78,\"type\":\"Dance\"},{\"age\":20,\"height\":84,\"type\":\"Dance\"},{\"age\":16,\"height\":84,\"type\":\"Dance\"},{\"age\":18,\"height\":82,\"type\":\"Dance\"},{\"age\":17,\"height\":86,\"type\":\"Dance\"},{\"age\":14,\"height\":78,\"type\":\"Dance\"},{\"age\":15,\"height\":78,\"type\":\"Dance\"},{\"age\":16,\"height\":79,\"type\":\"Dance\"},{\"age\":24,\"height\":79,\"type\":\"Dance\"},{\"age\":18,\"height\":87,\"type\":\"Dance\"},{\"age\":19,\"height\":88,\"type\":\"Dance\"},{\"age\":17,\"height\":77,\"type\":\"Dance\"},{\"age\":23,\"height\":84,\"type\":\"Dance\"},{\"age\":17,\"height\":83,\"type\":\"Dance\"},{\"age\":19,\"height\":85,\"type\":\"Visual\"},{\"age\":14,\"height\":82,\"type\":\"Visual\"},{\"age\":14,\"height\":84,\"type\":\"Visual\"},{\"age\":16,\"height\":90,\"type\":\"Visual\"},{\"age\":11,\"height\":74,\"type\":\"Visual\"},{\"age\":19,\"height\":85,\"type\":\"Visual\"},{\"age\":16,\"height\":85,\"type\":\"Visual\"},{\"age\":22,\"height\":91,\"type\":\"Visual\"},{\"age\":10,\"height\":73,\"type\":\"Visual\"},{\"age\":15,\"height\":80,\"type\":\"Visual\"},{\"age\":21,\"height\":86,\"type\":\"Visual\"},{\"age\":17,\"height\":81,\"type\":\"Visual\"},{\"age\":13,\"height\":77,\"type\":\"Visual\"},{\"age\":13,\"height\":77,\"type\":\"Visual\"},{\"age\":15,\"height\":83,\"type\":\"Visual\"},{\"age\":17,\"height\":83,\"type\":\"Visual\"},{\"age\":15,\"height\":77,\"type\":\"Visual\"}]},\"extension\":[]}\n",
       "        var id_name = '#vis-1f3795ff-c3b4-46e8-9f0c-8c691b5cf1e0';\n",
       "        Nyaplot.core.parse(model, id_name);\n",
       "\n",
       "        require(['downloadable'], function(downloadable){\n",
       "          var svg = d3.select(id_name).select(\"svg\");\n",
       "\t  if(!svg.empty())\n",
       "\t    svg.call(downloadable().filename('fig'));\n",
       "\t});\n",
       "    };\n",
       "    if(window['Nyaplot']==undefined){\n",
       "        window.addEventListener('load_nyaplot', render, false);\n",
       "\treturn;\n",
       "    } else {\n",
       "       render();\n",
       "    }\n",
       "})();\n",
       "</script>\n"
      ],
      "text/plain": [
       "#<Nyaplot::Frame:0x007f905a913d08 @properties={:panes=>[#<Nyaplot::Plot:0x007f905b941108 @properties={:diagrams=>[#<Nyaplot::Diagram:0x007f905b9409d8 @properties={:type=>:scatter, :options=>{:x=>:age, :y=>:height, :fill_by=>:type, :color=>#<Nyaplot::Color:0x007f905a913df8 @source=[\"rgb(255,0,0)\", \"rgb(0,0,255)\", \"rgb(255,212,0)\"]>}, :data=>\"e40cd021-d6a6-4240-ad75-b83a7cad6c6c\"}, @xrange=[10, 24], @yrange=[73, 92]>], :options=>{:x_label=>\"年齢\", :y_label=>\"臀囲(ヒップ)(cm)\", :zoom=>true, :width=>700, :xrange=>[10, 24], :yrange=>[73, 92]}}>], :data=>{\"e40cd021-d6a6-4240-ad75-b83a7cad6c6c\"=>#<Nyaplot::DataFrame:0x007f905a909150 @name=\"e40cd021-d6a6-4240-ad75-b83a7cad6c6c\", @rows=[{:age=>17, :height=>82, :type=>\"Vocal\"}, {:age=>14, :height=>77, :type=>\"Vocal\"}, {:age=>16, :height=>78, :type=>\"Vocal\"}, {:age=>14, :height=>78, :type=>\"Vocal\"}, {:age=>18, :height=>92, :type=>\"Vocal\"}, {:age=>16, :height=>80, :type=>\"Vocal\"}, {:age=>17, :height=>80, :type=>\"Vocal\"}, {:age=>18, :height=>78, :type=>\"Vocal\"}, {:age=>15, :height=>79, :type=>\"Vocal\"}, {:age=>13, :height=>76, :type=>\"Vocal\"}, {:age=>16, :height=>80, :type=>\"Vocal\"}, {:age=>21, :height=>86, :type=>\"Vocal\"}, {:age=>15, :height=>79, :type=>\"Vocal\"}, {:age=>14, :height=>77, :type=>\"Vocal\"}, {:age=>14, :height=>79, :type=>\"Vocal\"}, {:age=>14, :height=>76, :type=>\"Vocal\"}, {:age=>13, :height=>76, :type=>\"Dance\"}, {:age=>12, :height=>77, :type=>\"Dance\"}, {:age=>16, :height=>80, :type=>\"Dance\"}, {:age=>17, :height=>78, :type=>\"Dance\"}, {:age=>20, :height=>84, :type=>\"Dance\"}, {:age=>16, :height=>84, :type=>\"Dance\"}, {:age=>18, :height=>82, :type=>\"Dance\"}, {:age=>17, :height=>86, :type=>\"Dance\"}, {:age=>14, :height=>78, :type=>\"Dance\"}, {:age=>15, :height=>78, :type=>\"Dance\"}, {:age=>16, :height=>79, :type=>\"Dance\"}, {:age=>24, :height=>79, :type=>\"Dance\"}, {:age=>18, :height=>87, :type=>\"Dance\"}, {:age=>19, :height=>88, :type=>\"Dance\"}, {:age=>17, :height=>77, :type=>\"Dance\"}, {:age=>23, :height=>84, :type=>\"Dance\"}, {:age=>17, :height=>83, :type=>\"Dance\"}, {:age=>19, :height=>85, :type=>\"Visual\"}, {:age=>14, :height=>82, :type=>\"Visual\"}, {:age=>14, :height=>84, :type=>\"Visual\"}, {:age=>16, :height=>90, :type=>\"Visual\"}, {:age=>11, :height=>74, :type=>\"Visual\"}, {:age=>19, :height=>85, :type=>\"Visual\"}, {:age=>16, :height=>85, :type=>\"Visual\"}, {:age=>22, :height=>91, :type=>\"Visual\"}, {:age=>10, :height=>73, :type=>\"Visual\"}, {:age=>15, :height=>80, :type=>\"Visual\"}, {:age=>21, :height=>86, :type=>\"Visual\"}, {:age=>17, :height=>81, :type=>\"Visual\"}, {:age=>13, :height=>77, :type=>\"Visual\"}, {:age=>13, :height=>77, :type=>\"Visual\"}, {:age=>15, :height=>83, :type=>\"Visual\"}, {:age=>17, :height=>83, :type=>\"Visual\"}, {:age=>15, :height=>77, :type=>\"Visual\"}]>}, :extension=>[]}>"
      ]
     },
     "metadata": {},
     "output_type": "display_data"
    }
   ],
   "source": [
    "require 'json'\n",
    "require 'nyaplot'\n",
    "\n",
    "file = 'million_profile.json'\n",
    "\n",
    "data =  JSON.parse(open(file).read).map do |idol|\n",
    "  [idol['age'][0,2].to_i,\n",
    "   idol['bwh'].split('-')[2].to_i,\n",
    "   idol['type'],\n",
    "  ]\n",
    "end\n",
    "\n",
    "hash = Hash[[:age, :height, :type].zip data.transpose]\n",
    "df = Nyaplot::DataFrame.new(hash)\n",
    "\n",
    "plot = Nyaplot::Plot.new\n",
    "sc = plot.add_with_df(df, :scatter, :age, :height)\n",
    "sc.fill_by(:type)\n",
    "colors = Nyaplot::Color.new(%w(rgb(255,0,0) rgb(0,0,255) rgb(255,212,0)))\n",
    "sc.color(colors)\n",
    "plot.x_label('年齢')\n",
    "plot.y_label('臀囲(ヒップ)(cm)')\n",
    "\n",
    "\n",
    "plot.show\n"
   ]
  }
 ],
 "metadata": {
  "kernelspec": {
   "display_name": "Ruby 2.2.2",
   "language": "ruby",
   "name": "ruby"
  },
  "language_info": {
   "file_extension": "rb",
   "mimetype": "application/x-ruby",
   "name": "ruby",
   "version": "2.2.2"
  }
 },
 "nbformat": 4,
 "nbformat_minor": 0
}
